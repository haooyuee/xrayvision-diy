{
 "cells": [
  {
   "cell_type": "code",
   "execution_count": 2,
   "metadata": {},
   "outputs": [],
   "source": [
    "import os,sys\n",
    "import os,sys,inspect\n",
    "from glob import glob\n",
    "from os.path import exists, join\n",
    "import matplotlib.pyplot as plt\n",
    "import numpy as np\n",
    "from tqdm import tqdm\n",
    "import argparse\n",
    "\n",
    "import torch\n",
    "import torchvision, torchvision.transforms\n",
    "import skimage.transform\n",
    "import sklearn, sklearn.model_selection\n",
    "import train_utils\n",
    "import random\n",
    "import torchxrayvision as xrv"
   ]
  },
  {
   "cell_type": "code",
   "execution_count": 4,
   "metadata": {},
   "outputs": [
    {
     "data": {
      "text/plain": [
       "<module 'torchxrayvision.datasets' from 'd:\\\\machineLearning\\\\miniconda\\\\envs\\\\pytorch-gpu\\\\lib\\\\site-packages\\\\torchxrayvision\\\\datasets.py'>"
      ]
     },
     "execution_count": 4,
     "metadata": {},
     "output_type": "execute_result"
    }
   ],
   "source": [
    "#import torchxrayvision as xrv\n",
    "xrv.datasets"
   ]
  },
  {
   "cell_type": "code",
   "execution_count": 5,
   "metadata": {},
   "outputs": [
    {
     "name": "stdout",
     "output_type": "stream",
     "text": [
      "Lung Lesion doesn't exist. Adding nans instead.\n",
      "Fracture doesn't exist. Adding nans instead.\n",
      "Lung Opacity doesn't exist. Adding nans instead.\n",
      "Enlarged Cardiomediastinum doesn't exist. Adding nans instead.\n",
      "datas_names ['nih']\n",
      "--------------------------\n",
      "data_distribution {'Atelectasis': {0.0: 100561, 1.0: 11559},\n",
      " 'Cardiomegaly': {0.0: 109344, 1.0: 2776},\n",
      " 'Consolidation': {0.0: 107453, 1.0: 4667},\n",
      " 'Edema': {0.0: 109817, 1.0: 2303},\n",
      " 'Effusion': {0.0: 98803, 1.0: 13317},\n",
      " 'Emphysema': {0.0: 109604, 1.0: 2516},\n",
      " 'Enlarged Cardiomediastinum': {},\n",
      " 'Fibrosis': {0.0: 110434, 1.0: 1686},\n",
      " 'Fracture': {},\n",
      " 'Hernia': {0.0: 111893, 1.0: 227},\n",
      " 'Infiltration': {0.0: 92226, 1.0: 19894},\n",
      " 'Lung Lesion': {},\n",
      " 'Lung Opacity': {},\n",
      " 'Mass': {0.0: 106338, 1.0: 5782},\n",
      " 'Nodule': {0.0: 105789, 1.0: 6331},\n",
      " 'Pleural_Thickening': {0.0: 108735, 1.0: 3385},\n",
      " 'Pneumonia': {0.0: 110689, 1.0: 1431},\n",
      " 'Pneumothorax': {0.0: 106818, 1.0: 5302}}\n",
      "[NIH_Dataset num_samples=112120 views=['PA', 'AP'] data_aug=None]\n"
     ]
    }
   ],
   "source": [
    "datas = []\n",
    "datas_names = []\n",
    "transforms = torchvision.transforms.Compose([xrv.datasets.XRayCenterCrop(),xrv.datasets.XRayResizer(512)])\n",
    "data_aug = None\n",
    "dataset = xrv.datasets.NIH_Dataset(\n",
    "    imgpath=\"imgdata/images-224-NIH\",\n",
    "    transform=transforms, data_aug=data_aug, unique_patients=False, views=[\"PA\",\"AP\"])\n",
    "datas.append(dataset)\n",
    "datas_names.append(\"nih\")\n",
    "xrv.datasets.relabel_dataset(xrv.datasets.default_pathologies, dataset)\n",
    "print(\"datas_names\", datas_names)\n",
    "print(\"--------------------------\")\n",
    "print(\"data_distribution\", datas)"
   ]
  },
  {
   "cell_type": "code",
   "execution_count": 6,
   "metadata": {},
   "outputs": [],
   "source": [
    "#cut out training sets\n",
    "train_datas = []\n",
    "test_datas = []\n",
    "for i, dataset in enumerate(datas):\n",
    "        \n",
    "    # give patientid if not exist\n",
    "    if \"patientid\" not in dataset.csv:\n",
    "        dataset.csv[\"patientid\"] = [\"{}-{}\".format(dataset.__class__.__name__, i) for i in range(len(dataset))]\n",
    "            \n",
    "    gss = sklearn.model_selection.GroupShuffleSplit(train_size=0.8,test_size=0.2, random_state=0)\n",
    "        \n",
    "    train_inds, test_inds = next(gss.split(X=range(len(dataset)), groups=dataset.csv.patientid))\n",
    "    train_dataset = xrv.datasets.SubsetDataset(dataset, train_inds)\n",
    "    test_dataset = xrv.datasets.SubsetDataset(dataset, test_inds)\n",
    "        \n",
    "    train_datas.append(train_dataset)\n",
    "    test_datas.append(test_dataset)"
   ]
  },
  {
   "cell_type": "code",
   "execution_count": 7,
   "metadata": {},
   "outputs": [
    {
     "name": "stdout",
     "output_type": "stream",
     "text": [
      "train_datas {'Atelectasis': {0.0: 80501, 1.0: 9363},\n",
      " 'Cardiomegaly': {0.0: 87618, 1.0: 2246},\n",
      " 'Consolidation': {0.0: 86091, 1.0: 3773},\n",
      " 'Edema': {0.0: 87983, 1.0: 1881},\n",
      " 'Effusion': {0.0: 79131, 1.0: 10733},\n",
      " 'Emphysema': {0.0: 87858, 1.0: 2006},\n",
      " 'Enlarged Cardiomediastinum': {},\n",
      " 'Fibrosis': {0.0: 88515, 1.0: 1349},\n",
      " 'Fracture': {},\n",
      " 'Hernia': {0.0: 89675, 1.0: 189},\n",
      " 'Infiltration': {0.0: 73894, 1.0: 15970},\n",
      " 'Lung Lesion': {},\n",
      " 'Lung Opacity': {},\n",
      " 'Mass': {0.0: 85292, 1.0: 4572},\n",
      " 'Nodule': {0.0: 84769, 1.0: 5095},\n",
      " 'Pleural_Thickening': {0.0: 87200, 1.0: 2664},\n",
      " 'Pneumonia': {0.0: 88705, 1.0: 1159},\n",
      " 'Pneumothorax': {0.0: 85637, 1.0: 4227}}\n",
      "[SubsetDataset num_samples=89864\n",
      "└ of NIH_Dataset num_samples=112120 views=['PA', 'AP'] data_aug=None]\n",
      "test_datas {'Atelectasis': {0.0: 20060, 1.0: 2196},\n",
      " 'Cardiomegaly': {0.0: 21726, 1.0: 530},\n",
      " 'Consolidation': {0.0: 21362, 1.0: 894},\n",
      " 'Edema': {0.0: 21834, 1.0: 422},\n",
      " 'Effusion': {0.0: 19672, 1.0: 2584},\n",
      " 'Emphysema': {0.0: 21746, 1.0: 510},\n",
      " 'Enlarged Cardiomediastinum': {},\n",
      " 'Fibrosis': {0.0: 21919, 1.0: 337},\n",
      " 'Fracture': {},\n",
      " 'Hernia': {0.0: 22218, 1.0: 38},\n",
      " 'Infiltration': {0.0: 18332, 1.0: 3924},\n",
      " 'Lung Lesion': {},\n",
      " 'Lung Opacity': {},\n",
      " 'Mass': {0.0: 21046, 1.0: 1210},\n",
      " 'Nodule': {0.0: 21020, 1.0: 1236},\n",
      " 'Pleural_Thickening': {0.0: 21535, 1.0: 721},\n",
      " 'Pneumonia': {0.0: 21984, 1.0: 272},\n",
      " 'Pneumothorax': {0.0: 21181, 1.0: 1075}}\n",
      "[SubsetDataset num_samples=22256\n",
      "└ of NIH_Dataset num_samples=112120 views=['PA', 'AP'] data_aug=None]\n"
     ]
    }
   ],
   "source": [
    "print(\"train_datas\", train_datas)\n",
    "print(\"test_datas\", test_datas)"
   ]
  },
  {
   "cell_type": "code",
   "execution_count": 8,
   "metadata": {},
   "outputs": [],
   "source": [
    "if len(datas) == 0:\n",
    "    raise Exception(\"no dataset\")\n",
    "elif len(datas) == 1:\n",
    "    train_dataset = train_datas[0]\n",
    "    test_dataset = test_datas[0]\n",
    "else:\n",
    "    print(\"merge datasets\")\n",
    "    train_dataset = xrv.datasets.Merge_Dataset(train_datas)\n",
    "    test_dataset = xrv.datasets.Merge_Dataset(test_datas)"
   ]
  },
  {
   "cell_type": "code",
   "execution_count": 9,
   "metadata": {},
   "outputs": [
    {
     "name": "stdout",
     "output_type": "stream",
     "text": [
      "train_dataset.labels.shape (89864, 18)\n",
      "test_dataset.labels.shape (22256, 18)\n",
      "train_dataset {'Atelectasis': {0.0: 80501, 1.0: 9363},\n",
      " 'Cardiomegaly': {0.0: 87618, 1.0: 2246},\n",
      " 'Consolidation': {0.0: 86091, 1.0: 3773},\n",
      " 'Edema': {0.0: 87983, 1.0: 1881},\n",
      " 'Effusion': {0.0: 79131, 1.0: 10733},\n",
      " 'Emphysema': {0.0: 87858, 1.0: 2006},\n",
      " 'Enlarged Cardiomediastinum': {},\n",
      " 'Fibrosis': {0.0: 88515, 1.0: 1349},\n",
      " 'Fracture': {},\n",
      " 'Hernia': {0.0: 89675, 1.0: 189},\n",
      " 'Infiltration': {0.0: 73894, 1.0: 15970},\n",
      " 'Lung Lesion': {},\n",
      " 'Lung Opacity': {},\n",
      " 'Mass': {0.0: 85292, 1.0: 4572},\n",
      " 'Nodule': {0.0: 84769, 1.0: 5095},\n",
      " 'Pleural_Thickening': {0.0: 87200, 1.0: 2664},\n",
      " 'Pneumonia': {0.0: 88705, 1.0: 1159},\n",
      " 'Pneumothorax': {0.0: 85637, 1.0: 4227}}\n",
      "SubsetDataset num_samples=89864\n",
      "└ of NIH_Dataset num_samples=112120 views=['PA', 'AP'] data_aug=None\n",
      "test_dataset {'Atelectasis': {0.0: 20060, 1.0: 2196},\n",
      " 'Cardiomegaly': {0.0: 21726, 1.0: 530},\n",
      " 'Consolidation': {0.0: 21362, 1.0: 894},\n",
      " 'Edema': {0.0: 21834, 1.0: 422},\n",
      " 'Effusion': {0.0: 19672, 1.0: 2584},\n",
      " 'Emphysema': {0.0: 21746, 1.0: 510},\n",
      " 'Enlarged Cardiomediastinum': {},\n",
      " 'Fibrosis': {0.0: 21919, 1.0: 337},\n",
      " 'Fracture': {},\n",
      " 'Hernia': {0.0: 22218, 1.0: 38},\n",
      " 'Infiltration': {0.0: 18332, 1.0: 3924},\n",
      " 'Lung Lesion': {},\n",
      " 'Lung Opacity': {},\n",
      " 'Mass': {0.0: 21046, 1.0: 1210},\n",
      " 'Nodule': {0.0: 21020, 1.0: 1236},\n",
      " 'Pleural_Thickening': {0.0: 21535, 1.0: 721},\n",
      " 'Pneumonia': {0.0: 21984, 1.0: 272},\n",
      " 'Pneumothorax': {0.0: 21181, 1.0: 1075}}\n",
      "SubsetDataset num_samples=22256\n",
      "└ of NIH_Dataset num_samples=112120 views=['PA', 'AP'] data_aug=None\n"
     ]
    }
   ],
   "source": [
    "print(\"train_dataset.labels.shape\", train_dataset.labels.shape)\n",
    "print(\"test_dataset.labels.shape\", test_dataset.labels.shape)\n",
    "print(\"train_dataset\",train_dataset)\n",
    "print(\"test_dataset\",test_dataset)"
   ]
  },
  {
   "cell_type": "code",
   "execution_count": 10,
   "metadata": {},
   "outputs": [],
   "source": [
    "model_path = \"train_output/nih-resnet50-test-best.pt\"\n",
    "model = torch.load(model_path)"
   ]
  },
  {
   "cell_type": "code",
   "execution_count": 11,
   "metadata": {},
   "outputs": [
    {
     "name": "stderr",
     "output_type": "stream",
     "text": [
      "Epoch 1 - test - Loss = 2.1966: 100%|██████████| 2782/2782 [13:25<00:00,  3.46it/s]\n"
     ]
    },
    {
     "name": "stdout",
     "output_type": "stream",
     "text": [
      "Epoch 1 - test - Avg AUC = 0.8009\n"
     ]
    }
   ],
   "source": [
    "# Dataloader\n",
    "test_loader = torch.utils.data.DataLoader(test_dataset,\n",
    "                                            batch_size=8,\n",
    "                                            shuffle=None,\n",
    "                                            num_workers=0, pin_memory=False)\n",
    "results = train_utils.valid_test_epoch(\"test\", 0, model, \"cuda\", test_loader, torch.nn.BCEWithLogitsLoss(), limit=99999999)"
   ]
  },
  {
   "cell_type": "code",
   "execution_count": 12,
   "metadata": {},
   "outputs": [
    {
     "name": "stdout",
     "output_type": "stream",
     "text": [
      "Atelectasis 0.7695471758676612\n",
      "Consolidation 0.7786001748489394\n",
      "Infiltration 0.6868422374004182\n",
      "Pneumothorax 0.8201871137252232\n",
      "Edema 0.8856974230807466\n",
      "Emphysema 0.872652486912175\n",
      "Fibrosis 0.7653056444803588\n",
      "Effusion 0.8627664656244768\n",
      "Pneumonia 0.726670867582841\n",
      "Pleural_Thickening 0.7506275466155634\n",
      "Cardiomegaly 0.9057027576731818\n",
      "Nodule 0.7043414308764345\n",
      "Mass 0.8125226285122789\n",
      "Hernia 0.8709640357983806\n",
      "-----------------------------------------------------------\n",
      "pathologies ['Atelectasis', 'Consolidation', 'Infiltration', 'Pneumothorax', 'Edema', 'Emphysema', 'Fibrosis', 'Effusion', 'Pneumonia', 'Pleural_Thickening', 'Cardiomegaly', 'Nodule', 'Mass', 'Hernia', 'Lung Lesion', 'Fracture', 'Lung Opacity', 'Enlarged Cardiomediastinum']\n",
      "op_threshs [0.061641656, 0.03588539, 0.19524075, 0.030528711, 0.020668479, 0.007156254, 0.023056982, 0.0901551, 0.015201185, 0.019687265, 0.012241903, 0.042621396, 0.043535836, 0.001578105, np.nan, np.nan, np.nan, np.nan]\n",
      "min [0.00085373764, 0.00048820116, 0.01716077, 0.0001581873, 5.2798455e-06, 7.819816e-05, 9.520219e-06, 0.00023342944, 0.00031902807, 0.00030901702, 9.35074e-06, 0.0014030668, 0.0011995262, 6.733298e-07, np.nan, np.nan, np.nan, np.nan]\n",
      "max [0.75051785, 0.41102195, 0.7322468, 0.9907223, 0.6248714, 0.99999297, 0.40811905, 0.97918326, 0.23702729, 0.47100338, 0.96389204, 0.9535983, 0.999974, 0.060233697, np.nan, np.nan, np.nan, np.nan]\n",
      "ppv80 [0.6881256, 0.41102195, 0.7322468, 0.9733366, 0.5692878, 0.99999297, 0.40811905, 0.9776855, 0.23702729, 0.36870357, 0.910479, 0.9535983, 0.999974, 0.060233697, np.nan, np.nan, np.nan, np.nan]\n"
     ]
    }
   ],
   "source": [
    "perf_dict = {}\n",
    "all_threshs = []\n",
    "all_min = []\n",
    "all_max = []\n",
    "all_ppv80 = []\n",
    "for i, patho in enumerate(test_dataset.pathologies):\n",
    "    opt_thres = np.nan\n",
    "    opt_min = np.nan\n",
    "    opt_max = np.nan\n",
    "    ppv80_thres = np.nan\n",
    "    if (len(results[3][i]) > 0) and (len(np.unique(results[3][i])) == 2):\n",
    "        \n",
    "        #sigmoid\n",
    "        all_outputs = 1.0/(1.0 + np.exp(-results[2][i]))\n",
    "        \n",
    "        fpr, tpr, thres = sklearn.metrics.roc_curve(results[3][i], all_outputs)\n",
    "        pente = tpr - fpr\n",
    "        opt_thres = thres[np.argmax(pente)]\n",
    "        opt_min = all_outputs.min()\n",
    "        opt_max = all_outputs.max()\n",
    "        \n",
    "        ppv, recall, thres = sklearn.metrics.precision_recall_curve(results[3][i], all_outputs)\n",
    "        ppv80_thres_idx = np.where(ppv > 0.8)[0][0]\n",
    "        ppv80_thres = thres[ppv80_thres_idx-1]\n",
    "        \n",
    "        auc = sklearn.metrics.roc_auc_score(results[3][i], all_outputs)\n",
    "        \n",
    "        print(patho, auc)\n",
    "        perf_dict[patho] = str(round(auc,2))\n",
    "        \n",
    "    else:\n",
    "        perf_dict[patho] = \"-\"\n",
    "        \n",
    "    all_threshs.append(opt_thres)\n",
    "    all_min.append(opt_min)\n",
    "    all_max.append(opt_max)\n",
    "    all_ppv80.append(ppv80_thres)\n",
    "\n",
    "print(\"-----------------------------------------------------------\")    \n",
    "print(\"pathologies\",test_dataset.pathologies)\n",
    "    \n",
    "print(\"op_threshs\",str(all_threshs).replace(\"nan\",\"np.nan\"))\n",
    "    \n",
    "print(\"min\",str(all_min).replace(\"nan\",\"np.nan\"))\n",
    "    \n",
    "print(\"max\",str(all_max).replace(\"nan\",\"np.nan\"))\n",
    "\n",
    "print(\"ppv80\",str(all_ppv80).replace(\"nan\",\"np.nan\"))"
   ]
  }
 ],
 "metadata": {
  "kernelspec": {
   "display_name": "pytorch-gpu",
   "language": "python",
   "name": "python3"
  },
  "language_info": {
   "codemirror_mode": {
    "name": "ipython",
    "version": 3
   },
   "file_extension": ".py",
   "mimetype": "text/x-python",
   "name": "python",
   "nbconvert_exporter": "python",
   "pygments_lexer": "ipython3",
   "version": "3.7.16"
  },
  "orig_nbformat": 4
 },
 "nbformat": 4,
 "nbformat_minor": 2
}
